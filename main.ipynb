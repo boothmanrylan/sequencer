{
  "nbformat": 4,
  "nbformat_minor": 0,
  "metadata": {
    "colab": {
      "name": "main.ipynb",
      "private_outputs": true,
      "provenance": [],
      "toc_visible": true,
      "authorship_tag": "ABX9TyM049nnZNnxzMKT1XSqVzWq",
      "include_colab_link": true
    },
    "kernelspec": {
      "name": "python3",
      "display_name": "Python 3"
    },
    "language_info": {
      "name": "python"
    }
  },
  "cells": [
    {
      "cell_type": "markdown",
      "metadata": {
        "id": "view-in-github",
        "colab_type": "text"
      },
      "source": [
        "<a href=\"https://colab.research.google.com/github/boothmanrylan/sequencer/blob/main/main.ipynb\" target=\"_parent\"><img src=\"https://colab.research.google.com/assets/colab-badge.svg\" alt=\"Open In Colab\"/></a>"
      ]
    },
    {
      "cell_type": "markdown",
      "source": [
        "# imports and installs"
      ],
      "metadata": {
        "id": "ObnWdaD6SfZH"
      }
    },
    {
      "cell_type": "code",
      "source": [
        "# standard python imports\n",
        "import os"
      ],
      "metadata": {
        "id": "XmPjiqJ2UEWw"
      },
      "execution_count": null,
      "outputs": []
    },
    {
      "cell_type": "code",
      "source": [
        "# earth engine api import and authentication\n",
        "import ee\n",
        "ee.Authenticate()\n",
        "ee.Initialize()"
      ],
      "metadata": {
        "id": "tvcCkuuzTt3E"
      },
      "execution_count": null,
      "outputs": []
    },
    {
      "cell_type": "code",
      "source": [
        "# pip installable modules\n",
        "\n",
        "try:\n",
        "    import geemap.foliumap as geemap\n",
        "except:\n",
        "    !pip install geemap\n",
        "    import geemap.foliumap as geemap"
      ],
      "metadata": {
        "id": "nRF0RLJ0VXQP"
      },
      "execution_count": null,
      "outputs": []
    },
    {
      "cell_type": "code",
      "source": [
        "# autoreload all python modules before executing code block\n",
        "%load_ext autoreload\n",
        "%autoreload 2"
      ],
      "metadata": {
        "id": "pqjr-7Umk9VA"
      },
      "execution_count": null,
      "outputs": []
    },
    {
      "cell_type": "code",
      "source": [
        "# install and import my packages from github\n",
        "from google.colab import drive, auth\n",
        "\n",
        "drive.mount('/content/drive/')\n",
        "%cd /content/drive/My\\ Drive/colaboratory\n",
        "\n",
        "# auth.authenticate_user()\n",
        "\n",
        "# install msslib\n",
        "! if [ ! -d ./msslib ]; then git clone https://github.com/boothmanrylan/msslib.git; fi\n",
        "%cd msslib\n",
        "! git pull\n",
        "try:\n",
        "    from msslib import msslib\n",
        "except:\n",
        "    ! pip install .\n",
        "    from msslib import msslib\n",
        "%cd ../\n",
        "\n",
        "# install sequencer\n",
        "! if [ ! -d ./sequencer ]; then git clone https://github.com/boothmanrylan/sequencer.git; fi\n",
        "%cd sequencer\n",
        "! git pull\n",
        "try:\n",
        "    import sequencer\n",
        "except:\n",
        "    ! pip install .\n",
        "    import sequencer\n",
        "%cd ../\n",
        "\n",
        "# install MSSForestDisturbances\n",
        "! if [ ! -d ./MSSForestDisturbances ]; then git clone https://github.com/boothmanrylan/MSSForestDisturbances.git; fi\n",
        "%cd MSSForestDisturbances\n",
        "! git pull\n",
        "try:\n",
        "    import mfd\n",
        "except:\n",
        "    ! pip install .\n",
        "    import mfd\n",
        "%cd ../"
      ],
      "metadata": {
        "id": "a3FhNTyLSfGc"
      },
      "execution_count": null,
      "outputs": []
    },
    {
      "cell_type": "markdown",
      "source": [
        "# Reload\n",
        "\n",
        "Run these blocks if the modules have been updated since the runtime was started"
      ],
      "metadata": {
        "id": "nAqaOqSvUYlb"
      }
    },
    {
      "cell_type": "code",
      "source": [
        "# reload msslib\n",
        "%cd ./msslib\n",
        "! git pull\n",
        "%cd ../"
      ],
      "metadata": {
        "id": "T5aJV29gUnDI"
      },
      "execution_count": null,
      "outputs": []
    },
    {
      "cell_type": "code",
      "source": [
        "# reload sequencer\n",
        "%cd ./sequencer/\n",
        "! git pull\n",
        "%cd ../"
      ],
      "metadata": {
        "id": "XZMmLlPVUvt9"
      },
      "execution_count": null,
      "outputs": []
    },
    {
      "cell_type": "code",
      "source": [
        "# reload MSSForestDisturbances\n",
        "%cd ./MSSForestDisturbances/\n",
        "! git pull\n",
        "%cd ../"
      ],
      "metadata": {
        "id": "STWBLr9pU18w"
      },
      "execution_count": null,
      "outputs": []
    }
  ]
}